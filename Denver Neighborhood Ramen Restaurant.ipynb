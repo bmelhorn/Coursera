{
    "cells": [
        {
            "cell_type": "markdown",
            "metadata": {
                "collapsed": true
            },
            "source": "# Applied Data Science Capstone Project\n\n> # Denver Neighborhood Ramen Restaurant"
        },
        {
            "cell_type": "markdown",
            "metadata": {},
            "source": "## 1. Introduction/Business Problem"
        },
        {
            "cell_type": "markdown",
            "metadata": {},
            "source": "A person interested in opening a ramen restaurant in Denver is interested in knowing which neighborhood would be the most suitable to locate. \n\nThe goal is find the best neighborhood in Denver to open a ramen restaurant. The neighborhood should have an adequate population made up of the demographics of those expected to visit ramen restaurants regularly. In addition, the neighborhood should have an established restaurant scene relative to other Denver neighborhoods. However, any neighborhoods with a possibly saturated restaurant market should be avoided."
        },
        {
            "cell_type": "markdown",
            "metadata": {},
            "source": "## 2. Data and Analysis"
        },
        {
            "cell_type": "markdown",
            "metadata": {},
            "source": "### Data"
        },
        {
            "cell_type": "markdown",
            "metadata": {},
            "source": "The following data will be required to condcut the analysis:\n1. Denver neighborhood demographics\n2. Denver neighborhood location\n3. Denver neighborhood venue information\n\nThe Denver neighborhood demographics data will be obtained from the City and County of Denver - American Community Survey Nbrhd (2014-2018), which can be found here: https://www.denvergov.org/opendata/dataset/city-and-county-of-denver-american-community-survey-nbrhd-2014-2018\n\nThe neighborhood location data will be acquired using Geopy and the neighborhood venue information will be obtained using Foursquare. "
        },
        {
            "cell_type": "markdown",
            "metadata": {},
            "source": "### Analysis"
        },
        {
            "cell_type": "markdown",
            "metadata": {},
            "source": "The analysis will consist of the following steps:\n1. Group neighborhoods using certain demographics like average age, income, marital status, and other characteristics of those likely to visit ramen shops regularly\n2. Group neighborhoods by quality of existing restaurant scene by analyzing the categories of venues already present in the neighborhood. Identify those neighborhoods with a diverse group of venues. \n3. Calculate the number of existing ramen shops per capita for the neighborhoods that have an appropriate demographic and restaurant scene.\n4. Analyze the results of the above steps to determine which neighborhoods are suitable for opening a ramen restaurant."
        },
        {
            "cell_type": "code",
            "execution_count": null,
            "metadata": {},
            "outputs": [],
            "source": ""
        }
    ],
    "metadata": {
        "kernelspec": {
            "display_name": "Python 3.6",
            "language": "python",
            "name": "python3"
        },
        "language_info": {
            "codemirror_mode": {
                "name": "ipython",
                "version": 3
            },
            "file_extension": ".py",
            "mimetype": "text/x-python",
            "name": "python",
            "nbconvert_exporter": "python",
            "pygments_lexer": "ipython3",
            "version": "3.6.9"
        }
    },
    "nbformat": 4,
    "nbformat_minor": 1
}