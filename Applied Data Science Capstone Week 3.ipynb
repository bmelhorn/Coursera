{
    "cells": [
        {
            "cell_type": "markdown",
            "metadata": {},
            "source": "# Segmenting and Clustering Neighborhoods in Toronto"
        },
        {
            "cell_type": "markdown",
            "metadata": {},
            "source": "## 1. Initial Dataframe using Toronto postal code wiki"
        },
        {
            "cell_type": "markdown",
            "metadata": {},
            "source": "> Install BeautifulSoup and import Pandas"
        },
        {
            "cell_type": "code",
            "execution_count": null,
            "metadata": {},
            "outputs": [],
            "source": "!pip install bs4\nimport pandas as pd\nfrom bs4 import BeautifulSoup\nimport requests"
        },
        {
            "cell_type": "markdown",
            "metadata": {},
            "source": "> Pull data from Wiki and enter into pandas dataframe called 'borough'"
        },
        {
            "cell_type": "code",
            "execution_count": null,
            "metadata": {},
            "outputs": [],
            "source": "source = requests.get('https://en.wikipedia.org/wiki/List_of_postal_codes_of_Canada:_M')\nsoup = BeautifulSoup(source.content, 'lxml')\ntable = soup.find_all('table')[0]\ndf = pd.read_html(str(table))\nborough = pd.DataFrame(df[0])"
        },
        {
            "cell_type": "markdown",
            "metadata": {},
            "source": "> Remove rows with Borough not assigned, reset index, and check"
        },
        {
            "cell_type": "code",
            "execution_count": null,
            "metadata": {},
            "outputs": [],
            "source": "borough = borough[borough.Borough !='Not assigned']\nborough = borough.reset_index(drop=True)\nborough.head()"
        },
        {
            "cell_type": "markdown",
            "metadata": {},
            "source": "> Confirm no neighborhoods with value 'Not assigned'"
        },
        {
            "cell_type": "code",
            "execution_count": null,
            "metadata": {},
            "outputs": [],
            "source": "NeighNA = borough[(borough['Neighborhood'] == 'Not assigned')]\nNeighNA"
        },
        {
            "cell_type": "markdown",
            "metadata": {},
            "source": "> Display Number of Rows and Columns"
        },
        {
            "cell_type": "code",
            "execution_count": null,
            "metadata": {},
            "outputs": [],
            "source": "borough.shape"
        },
        {
            "cell_type": "markdown",
            "metadata": {},
            "source": "## 2. Add postal code longitude and latitude values to dataframe"
        },
        {
            "cell_type": "markdown",
            "metadata": {},
            "source": "> Read from .csv to create new df with columns Postal Code, Longitude, Latitude"
        },
        {
            "cell_type": "code",
            "execution_count": null,
            "metadata": {},
            "outputs": [],
            "source": "long_lat = pd.read_csv('https://cocl.us/Geospatial_data')"
        },
        {
            "cell_type": "markdown",
            "metadata": {},
            "source": "> Combine df with longitude and latitude values with boroughs df using .merge"
        },
        {
            "cell_type": "code",
            "execution_count": null,
            "metadata": {},
            "outputs": [],
            "source": "borough11 = pd.merge(borough, long_lat, how='inner')\nborough11.reset_index(drop=True, inplace=True)\nborough11.head()"
        }
    ],
    "metadata": {
        "kernelspec": {
            "display_name": "Python 3.6",
            "language": "python",
            "name": "python3"
        },
        "language_info": {
            "codemirror_mode": {
                "name": "ipython",
                "version": 3
            },
            "file_extension": ".py",
            "mimetype": "text/x-python",
            "name": "python",
            "nbconvert_exporter": "python",
            "pygments_lexer": "ipython3",
            "version": "3.6.9"
        }
    },
    "nbformat": 4,
    "nbformat_minor": 1
}